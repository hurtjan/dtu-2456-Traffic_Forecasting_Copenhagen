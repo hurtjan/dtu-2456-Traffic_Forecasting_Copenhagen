{
 "cells": [
  {
   "cell_type": "code",
   "execution_count": 1,
   "metadata": {},
   "outputs": [
    {
     "name": "stdout",
     "output_type": "stream",
     "text": [
      "The history saving thread hit an unexpected error (DatabaseError('database disk image is malformed',)).History will not be written to the database.\n"
     ]
    }
   ],
   "source": [
    "import torch\n",
    "from torch.autograd import Variable\n",
    "from torch.nn.parameter import Parameter\n",
    "import torch.nn as nn\n",
    "import torch.nn.functional as F\n",
    "import torch.optim as optim\n",
    "import torch.nn.init as init\n",
    "from torch.nn.functional import relu, elu, relu6, sigmoid, tanh, softmax\n",
    "from torch.nn import Linear, Conv2d, BatchNorm2d, MaxPool2d, Dropout2d\n",
    "\n",
    "import time\n",
    "import matplotlib.dates as md\n",
    "\n",
    "\n",
    "\n",
    "%matplotlib inline\n",
    "import matplotlib\n",
    "import numpy as np\n",
    "import matplotlib.pyplot as plt\n",
    "from IPython.display import clear_output\n",
    "\n",
    "import pandas as pd\n",
    "\n",
    "import networkx as nx"
   ]
  },
  {
   "cell_type": "markdown",
   "metadata": {},
   "source": [
    "# Import data"
   ]
  },
  {
   "cell_type": "code",
   "execution_count": 2,
   "metadata": {},
   "outputs": [],
   "source": [
    "df_edges = pd.read_csv('../data/graph_edges_with_directionality.csv')\n",
    "\n",
    "G = nx.DiGraph()\n",
    "for orig,desti in zip(df_edges['origin_place_id'], df_edges['destination_place_id']):\n",
    "    G.add_edge(orig, desti)\n",
    "nodes = list(G.nodes())"
   ]
  },
  {
   "cell_type": "code",
   "execution_count": 3,
   "metadata": {},
   "outputs": [],
   "source": [
    "train_data = np.load(\"../DCRNN/data/OUR/train.npz\")\n",
    "test_data = np.load(\"../DCRNN/data/OUR/test.npz\")"
   ]
  },
  {
   "cell_type": "markdown",
   "metadata": {},
   "source": [
    "## use data of 0th node and set prev/future steps"
   ]
  },
  {
   "cell_type": "code",
   "execution_count": 4,
   "metadata": {},
   "outputs": [],
   "source": [
    "node_data = train_data['x'][:,:,0,0]\n",
    "test_node_data = test_data['x'][:,:,0,0]"
   ]
  },
  {
   "cell_type": "code",
   "execution_count": 5,
   "metadata": {},
   "outputs": [],
   "source": [
    "cleaner_train = [max(np.append(tx,ty)) == ty[-1] for tx,ty in zip(train_data['x'][:,:,0,1], train_data['y'][:,:,0,1])]"
   ]
  },
  {
   "cell_type": "code",
   "execution_count": 6,
   "metadata": {},
   "outputs": [],
   "source": [
    "cleaner_test = [max(np.append(tx,ty)) == ty[-1] for tx,ty in zip(test_data['x'][:,:,0,1],test_data['y'][:,:,0,1])]"
   ]
  },
  {
   "cell_type": "code",
   "execution_count": 7,
   "metadata": {},
   "outputs": [],
   "source": [
    "cats = [cat for cat in train_data]"
   ]
  },
  {
   "cell_type": "code",
   "execution_count": 8,
   "metadata": {},
   "outputs": [],
   "source": [
    "cleaned_train_data = dict()\n",
    "cleaned_test_data = dict()\n",
    "for cat in cats[:2]:\n",
    "    cleaned_train_data[cat] = train_data[cat][cleaner_train]\n",
    "    cleaned_test_data[cat] = test_data[cat][cleaner_test]"
   ]
  },
  {
   "cell_type": "code",
   "execution_count": 14,
   "metadata": {},
   "outputs": [],
   "source": [
    "prev_steps = 12\n",
    "future_steps = 12\n",
    "num_mini_batch_in_day = 144 - prev_steps - future_steps + 1\n",
    "# number of mini \n",
    "nodes = np.array([13,0, 20, 30])"
   ]
  },
  {
   "cell_type": "code",
   "execution_count": 15,
   "metadata": {},
   "outputs": [],
   "source": [
    "node_data = node_data[:][:prev_steps]"
   ]
  },
  {
   "cell_type": "markdown",
   "metadata": {},
   "source": [
    "# define data loader functions"
   ]
  },
  {
   "cell_type": "markdown",
   "metadata": {},
   "source": [
    "# Build Network"
   ]
  },
  {
   "cell_type": "code",
   "execution_count": 16,
   "metadata": {},
   "outputs": [
    {
     "name": "stdout",
     "output_type": "stream",
     "text": [
      "Net(\n",
      "  (lstm): GRU(4, 20)\n",
      "  (dp1): Dropout(p=0.5)\n",
      "  (l1): Linear(in_features=12, out_features=12, bias=True)\n",
      "  (l2): Linear(in_features=20, out_features=4, bias=True)\n",
      ")\n"
     ]
    }
   ],
   "source": [
    "from torch.nn import LSTM, Dropout\n",
    "num_prev_steps = prev_steps\n",
    "num_l1 = num_prev_steps\n",
    "num_l2 = num_prev_steps\n",
    "num_pred_steps = future_steps\n",
    "hidden_size=20\n",
    "class Net(nn.Module):\n",
    "    def __init__(self, num_prev_steps, num_pred_steps, num_l1, num_nodes):   \n",
    "        super(Net, self).__init__()\n",
    "        self.num_prev_steps=num_prev_steps\n",
    "        self.num_pred_steps=num_pred_steps\n",
    "        self.lstm=torch.nn.GRU(input_size=num_nodes,hidden_size=hidden_size)\n",
    "        self.dp1=Dropout(0.5)\n",
    "        self.l1=Linear(num_prev_steps,num_pred_steps)\n",
    "        self.l2=Linear(hidden_size,num_nodes)\n",
    "        \n",
    "        \n",
    "    def forward(self, x):\n",
    "        #input (batch_size, previous steps, number of nodes)\n",
    "        #output (batch_size, future steps, number of nodes)\n",
    "        x=x.permute(1,0,2)#(seq,bat,nod)\n",
    "        x,_=self.lstm(x)\n",
    "        x=self.dp1(x)\n",
    "        x=x.permute(1,2,0)#(bat,nod,seq)\n",
    "        x=sigmoid(self.l1(x))\n",
    "        #x=self.dp1(x)\n",
    "        x=x.permute(0,2,1)\n",
    "        x=sigmoid(self.l2(x))\n",
    "        return x\n",
    "net = Net(num_prev_steps, num_pred_steps, num_l1, len(nodes))\n",
    "print(net)"
   ]
  },
  {
   "cell_type": "markdown",
   "metadata": {},
   "source": [
    "# define criterion and optimizer"
   ]
  },
  {
   "cell_type": "code",
   "execution_count": 17,
   "metadata": {},
   "outputs": [],
   "source": [
    "import torch.optim as optim\n",
    "\n",
    "lr = 0.01\n",
    "criterion = nn.MSELoss()\n",
    "optimizer = optim.Adam(net.parameters(), lr=lr)"
   ]
  },
  {
   "cell_type": "markdown",
   "metadata": {},
   "source": [
    "## Test for 1 training step"
   ]
  },
  {
   "cell_type": "code",
   "execution_count": 18,
   "metadata": {},
   "outputs": [
    {
     "name": "stdout",
     "output_type": "stream",
     "text": [
      "torch.Size([20, 12, 4])\n",
      "torch.Size([20, 12, 4])\n",
      "torch.Size([20, 12, 4])\n",
      "Sucess\n"
     ]
    }
   ],
   "source": [
    "batch_size = 20\n",
    "x_batch = Variable(torch.from_numpy(cleaned_train_data['x'][:batch_size,-prev_steps:,nodes,0])).float()\n",
    "print(x_batch.shape)\n",
    "output = net(x_batch)\n",
    "target = Variable(torch.from_numpy(cleaned_train_data['y'][:batch_size,:future_steps,nodes,0]).float()).view(-1, num_pred_steps, len(nodes))\n",
    "print(output.shape)\n",
    "print(target.shape)\n",
    "batch_loss = criterion(output, target)\n",
    "print(\"Sucess\")"
   ]
  },
  {
   "cell_type": "code",
   "execution_count": 19,
   "metadata": {},
   "outputs": [
    {
     "data": {
      "text/plain": [
       "(20, 12, 4)"
      ]
     },
     "execution_count": 19,
     "metadata": {},
     "output_type": "execute_result"
    }
   ],
   "source": [
    "cleaned_train_data['y'][:batch_size,:future_steps,nodes,0].shape"
   ]
  },
  {
   "cell_type": "code",
   "execution_count": 20,
   "metadata": {},
   "outputs": [
    {
     "data": {
      "text/plain": [
       "numpy.ndarray"
      ]
     },
     "execution_count": 20,
     "metadata": {},
     "output_type": "execute_result"
    }
   ],
   "source": [
    "type(cleaned_train_data['x'][:batch_size,-prev_steps:,0,0])"
   ]
  },
  {
   "cell_type": "markdown",
   "metadata": {},
   "source": [
    "# Training loop"
   ]
  },
  {
   "cell_type": "code",
   "execution_count": 25,
   "metadata": {},
   "outputs": [
    {
     "ename": "KeyboardInterrupt",
     "evalue": "",
     "output_type": "error",
     "traceback": [
      "\u001b[0;31m---------------------------------------------------------------------------\u001b[0m",
      "\u001b[0;31mKeyboardInterrupt\u001b[0m                         Traceback (most recent call last)",
      "\u001b[0;32m<ipython-input-25-4ea3883277ac>\u001b[0m in \u001b[0;36m<module>\u001b[0;34m\u001b[0m\n\u001b[1;32m      3\u001b[0m \u001b[0mclip\u001b[0m \u001b[0;34m=\u001b[0m \u001b[0;36m100\u001b[0m\u001b[0;34m\u001b[0m\u001b[0m\n\u001b[1;32m      4\u001b[0m \u001b[0;34m\u001b[0m\u001b[0m\n\u001b[0;32m----> 5\u001b[0;31m \u001b[0mlosses\u001b[0m \u001b[0;34m=\u001b[0m \u001b[0;34m[\u001b[0m\u001b[0;34m]\u001b[0m\u001b[0;34m\u001b[0m\u001b[0m\n\u001b[0m\u001b[1;32m      6\u001b[0m \u001b[0mtest_losses\u001b[0m \u001b[0;34m=\u001b[0m \u001b[0;34m[\u001b[0m\u001b[0;34m]\u001b[0m\u001b[0;34m\u001b[0m\u001b[0m\n\u001b[1;32m      7\u001b[0m \u001b[0mk\u001b[0m \u001b[0;34m=\u001b[0m \u001b[0;36m0\u001b[0m\u001b[0;34m\u001b[0m\u001b[0m\n",
      "\u001b[0;31mKeyboardInterrupt\u001b[0m: "
     ]
    }
   ],
   "source": [
    "num_epoch = 40\n",
    "batch_size = 50\n",
    "clip = 100\n",
    "\n",
    "losses = []\n",
    "test_losses = []\n",
    "k = 0\n",
    "\n",
    "for ep_ind in range(num_epoch):\n",
    "    cur_losses = []\n",
    "    net.train()\n",
    "    \n",
    "    #go from 0 to epoch_size in batch_size steps\n",
    "    #to get completely new data for every batch\n",
    "    \n",
    "    for i in range(0, len(cleaned_train_data['x']), batch_size):\n",
    "        #print(get_batch(i, batch_size))\n",
    "        np_batch = cleaned_train_data['x'][i:i+batch_size,-prev_steps:,nodes,0]\n",
    "        x_batch = Variable(torch.from_numpy(np_batch)).float()\n",
    "        output = net(x_batch)\n",
    "        target_batch = Variable(torch.from_numpy(cleaned_train_data['y'][i:i+batch_size,:future_steps,nodes,0]).float()).view(-1, num_pred_steps, len(nodes))\n",
    "        batch_loss = criterion(output, target_batch)\n",
    "\n",
    "        \n",
    "        #x_batch = Variable(torch.from_numpy(np_batch[0])).float()\n",
    "        #output = net(x_batch)\n",
    "        #target_batch = Variable(torch.from_numpy(np_batch[1]).float())\n",
    "        #batch_loss = criterion(output[0], target_batch)\n",
    "        #if k < 100:\n",
    "        #    print(batch_loss)\n",
    "        #    k = k + 1\n",
    "\n",
    "        optimizer.zero_grad()\n",
    "        batch_loss.backward()\n",
    "        nn.utils.clip_grad_norm_(net.parameters(), clip)\n",
    "        optimizer.step()\n",
    "        \n",
    "        cur_losses.append(batch_loss/len(np_batch))\n",
    "    \n",
    "    net.eval()\n",
    "    test_pred = net(torch.from_numpy(cleaned_test_data['x'][:,-prev_steps:,nodes,0]).float())\n",
    "    test_target = torch.from_numpy(cleaned_test_data['y'][:,:future_steps,nodes,0]).float().view(-1, num_pred_steps, len(nodes))\n",
    "    test_losses.append(criterion(test_pred, test_target)/len(test_target))\n",
    "    \n",
    "    losses.append(sum(cur_losses)/len(cur_losses))\n",
    "    print(\"epoch is \" + str(ep_ind))\n",
    "    print(\"cur_loss is \" + str(losses[-1]) )\n",
    "    print(\"test loss is \" + str(test_losses[-1]))\n",
    "    plt.plot(np.log(losses), linestyle = '--')\n",
    "    plt.ylabel('loss')\n",
    "    plt.xlabel('epoch')\n",
    "    plt.show()\n",
    "    plt.plot(np.log(test_losses), marker = 'x')\n",
    "    plt.ylabel('loss')\n",
    "    plt.xlabel('epoch')\n",
    "    plt.show()\n",
    "    clear_output(wait=True)"
   ]
  },
  {
   "cell_type": "code",
   "execution_count": 23,
   "metadata": {},
   "outputs": [
    {
     "data": {
      "text/plain": [
       "1.113671643349366e-07"
      ]
     },
     "execution_count": 23,
     "metadata": {},
     "output_type": "execute_result"
    }
   ],
   "source": [
    "test_pred = net(torch.from_numpy(cleaned_test_data['x'][:,-prev_steps:,nodes,0]).float())[:,:,1]\n",
    "test_target = torch.from_numpy(cleaned_test_data['y'][:,:future_steps,nodes,0]).float().view(-1, num_pred_steps, len(nodes))[:,:,1]\n",
    "\n",
    "criterion(test_pred, test_target).detach().numpy()/len(test_pred)"
   ]
  },
  {
   "cell_type": "code",
   "execution_count": 24,
   "metadata": {},
   "outputs": [],
   "source": [
    "torch.save(test_pred,'GRUpred.pt')"
   ]
  },
  {
   "cell_type": "code",
   "execution_count": null,
   "metadata": {},
   "outputs": [],
   "source": []
  }
 ],
 "metadata": {
  "kernelspec": {
   "display_name": "Python 3",
   "language": "python",
   "name": "python3"
  },
  "language_info": {
   "codemirror_mode": {
    "name": "ipython",
    "version": 3
   },
   "file_extension": ".py",
   "mimetype": "text/x-python",
   "name": "python",
   "nbconvert_exporter": "python",
   "pygments_lexer": "ipython3",
   "version": "3.6.6"
  }
 },
 "nbformat": 4,
 "nbformat_minor": 2
}
