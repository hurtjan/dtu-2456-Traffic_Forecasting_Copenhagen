{
 "cells": [
  {
   "cell_type": "code",
   "execution_count": 1,
   "metadata": {},
   "outputs": [
    {
     "name": "stdout",
     "output_type": "stream",
     "text": [
      "The history saving thread hit an unexpected error (DatabaseError('database disk image is malformed',)).History will not be written to the database.\n"
     ]
    }
   ],
   "source": [
    "import torch\n",
    "from torch.autograd import Variable\n",
    "from torch.nn.parameter import Parameter\n",
    "import torch.nn as nn\n",
    "import torch.nn.functional as F\n",
    "import torch.optim as optim\n",
    "import torch.nn.init as init\n",
    "from torch.nn.functional import relu, elu, relu6, sigmoid, tanh, softmax\n",
    "from torch.nn import Linear, Conv2d, BatchNorm2d, MaxPool2d, Dropout2d\n",
    "\n",
    "import time\n",
    "import matplotlib.dates as md\n",
    "\n",
    "\n",
    "\n",
    "%matplotlib inline\n",
    "import matplotlib\n",
    "import numpy as np\n",
    "import matplotlib.pyplot as plt\n",
    "from IPython.display import clear_output\n",
    "\n",
    "import pandas as pd\n",
    "\n",
    "import networkx as nx\n",
    "\n",
    "import datetime"
   ]
  },
  {
   "cell_type": "markdown",
   "metadata": {},
   "source": [
    "# Import data"
   ]
  },
  {
   "cell_type": "code",
   "execution_count": 2,
   "metadata": {},
   "outputs": [],
   "source": [
    "df_edges = pd.read_csv('../data/graph_edges_with_directionality - Kopie.csv')\n",
    "\n",
    "G = nx.DiGraph()\n",
    "for orig,desti in zip(df_edges['origin_place_id'], df_edges['destination_place_id']):\n",
    "    G.add_edge(orig, desti)\n",
    "nodes = list(G.nodes())"
   ]
  },
  {
   "cell_type": "code",
   "execution_count": 3,
   "metadata": {},
   "outputs": [],
   "source": [
    "train_data = np.load(\"train_hist_avg.npz\")\n",
    "test_data = np.load(\"test_hist_avg.npz\")"
   ]
  },
  {
   "cell_type": "code",
   "execution_count": 4,
   "metadata": {},
   "outputs": [
    {
     "data": {
      "text/plain": [
       "((16215, 12, 270, 3), (16215, 12, 270, 2))"
      ]
     },
     "execution_count": 4,
     "metadata": {},
     "output_type": "execute_result"
    }
   ],
   "source": [
    "train_data['x'].shape, train_data['y'].shape"
   ]
  },
  {
   "cell_type": "code",
   "execution_count": 5,
   "metadata": {},
   "outputs": [
    {
     "data": {
      "text/plain": [
       "20858"
      ]
     },
     "execution_count": 5,
     "metadata": {},
     "output_type": "execute_result"
    }
   ],
   "source": [
    "len(train_data['x']) + len(test_data['x'])"
   ]
  },
  {
   "cell_type": "markdown",
   "metadata": {},
   "source": [
    "## use data of 0th node and set prev/future steps"
   ]
  },
  {
   "cell_type": "code",
   "execution_count": 6,
   "metadata": {},
   "outputs": [
    {
     "data": {
      "text/plain": [
       "(16215, 12, 270, 3)"
      ]
     },
     "execution_count": 6,
     "metadata": {},
     "output_type": "execute_result"
    }
   ],
   "source": [
    "train_data['x'].shape"
   ]
  },
  {
   "cell_type": "code",
   "execution_count": 7,
   "metadata": {},
   "outputs": [
    {
     "data": {
      "text/plain": [
       "(16215, 12, 270, 3)"
      ]
     },
     "execution_count": 7,
     "metadata": {},
     "output_type": "execute_result"
    }
   ],
   "source": [
    "train_data['x'].shape"
   ]
  },
  {
   "cell_type": "code",
   "execution_count": 8,
   "metadata": {},
   "outputs": [],
   "source": [
    "prev_steps = 12\n",
    "future_steps = 12\n",
    "# number of mini \n",
    "nodes = np.array([13])"
   ]
  },
  {
   "cell_type": "code",
   "execution_count": 9,
   "metadata": {},
   "outputs": [],
   "source": [
    "cleaned_train_data_x = train_data['x'][:,:,nodes,:]\n",
    "cleaned_train_data_y = train_data['y'][:,:,nodes,:]\n",
    "\n",
    "cleaned_test_data_x = test_data['x'][:,:,nodes,:]\n",
    "cleaned_test_data_y = test_data['y'][:,:,nodes,:]\n",
    "\n",
    "del train_data\n",
    "del test_data"
   ]
  },
  {
   "cell_type": "markdown",
   "metadata": {},
   "source": [
    "# define data loader functions"
   ]
  },
  {
   "cell_type": "markdown",
   "metadata": {},
   "source": [
    "# Build Network"
   ]
  },
  {
   "cell_type": "code",
   "execution_count": 10,
   "metadata": {},
   "outputs": [
    {
     "name": "stdout",
     "output_type": "stream",
     "text": [
      "Net(\n",
      "  (lout): Linear(in_features=24, out_features=12, bias=True)\n",
      ")\n"
     ]
    }
   ],
   "source": [
    "num_prev_steps = prev_steps\n",
    "num_l1 = 50\n",
    "num_l2 = 50\n",
    "num_pred_steps = future_steps\n",
    "num_nodes = len(nodes)\n",
    "\n",
    "class Net(nn.Module):\n",
    "    def __init__(self, num_prev_steps, num_pred_steps, num_l1,num_l2, num_nodes):\n",
    "        self.num_first_layer = num_prev_steps*num_nodes*2\n",
    "        self.num_last_layer = num_pred_steps*num_nodes\n",
    "        super(Net, self).__init__()\n",
    "\n",
    "        #self.l1 = Linear(in_features = self.num_first_layer,\n",
    "                        #out_features = num_l1)\n",
    "        #self.l2 = Linear(in_features = num_l1,\n",
    "                        #out_features = num_l2)\n",
    "        self.lout = Linear(in_features = self.num_first_layer,\n",
    "                          out_features = self.num_last_layer)\n",
    "        \n",
    "    def forward(self, x):\n",
    "        #input: batchsize x num_prev_steps x num_nodes\n",
    "        x = x.view(-1,self.num_first_layer)\n",
    "        #x = torch.sigmoid(self.l1(x))\n",
    "        #x = sigmoid(self.l1(x))\n",
    "        #x = sigmoid(self.l2(x))\n",
    "        x = self.lout(x)\n",
    "        #output: batchsize x num_pred_step x num_nodes\n",
    "        \n",
    "        return x.view(-1, num_pred_steps, num_nodes)\n",
    "net = Net(num_prev_steps, num_pred_steps, num_l1,num_l2, len(nodes))\n",
    "print(net)"
   ]
  },
  {
   "cell_type": "markdown",
   "metadata": {},
   "source": [
    "# define criterion and optimizer"
   ]
  },
  {
   "cell_type": "code",
   "execution_count": 11,
   "metadata": {},
   "outputs": [],
   "source": [
    "import torch.optim as optim\n",
    "\n",
    "lr = 0.01\n",
    "criterion = nn.MSELoss()\n",
    "optimizer = optim.Adam(net.parameters(), lr=lr)"
   ]
  },
  {
   "cell_type": "markdown",
   "metadata": {},
   "source": [
    "## Test for 1 training step"
   ]
  },
  {
   "cell_type": "code",
   "execution_count": 12,
   "metadata": {},
   "outputs": [
    {
     "name": "stdout",
     "output_type": "stream",
     "text": [
      "torch.Size([10, 12, 1, 2])\n",
      "torch.Size([10, 12, 1])\n",
      "torch.Size([10, 12, 1])\n",
      "Sucess\n"
     ]
    }
   ],
   "source": [
    "batch_size = 10\n",
    "x_batch = Variable(torch.from_numpy(cleaned_train_data_x[:batch_size,-prev_steps:,:,[0,1]])).float()\n",
    "print(x_batch.shape)\n",
    "output = net(x_batch)\n",
    "target = Variable(torch.from_numpy(cleaned_train_data_y[:batch_size,:future_steps,:,0]).float()).view(-1, num_pred_steps, len(nodes))\n",
    "print(output.shape)\n",
    "print(target.shape)\n",
    "batch_loss = criterion(output, target)\n",
    "print(\"Sucess\")"
   ]
  },
  {
   "cell_type": "code",
   "execution_count": 13,
   "metadata": {},
   "outputs": [
    {
     "data": {
      "text/plain": [
       "numpy.ndarray"
      ]
     },
     "execution_count": 13,
     "metadata": {},
     "output_type": "execute_result"
    }
   ],
   "source": [
    "type(cleaned_train_data_x[:batch_size,-prev_steps:,0,0])"
   ]
  },
  {
   "cell_type": "code",
   "execution_count": 14,
   "metadata": {},
   "outputs": [
    {
     "data": {
      "text/plain": [
       "(4643, 12, 1)"
      ]
     },
     "execution_count": 14,
     "metadata": {},
     "output_type": "execute_result"
    }
   ],
   "source": [
    "cleaned_test_data_x[:,-prev_steps:,:,0].shape"
   ]
  },
  {
   "cell_type": "markdown",
   "metadata": {},
   "source": [
    "# Training loop"
   ]
  },
  {
   "cell_type": "code",
   "execution_count": 15,
   "metadata": {},
   "outputs": [],
   "source": [
    "net = Net(num_prev_steps, num_pred_steps, num_l1,num_l2, len(nodes))\n",
    "optimizer = optim.Adam(net.parameters(), lr=lr)"
   ]
  },
  {
   "cell_type": "code",
   "execution_count": 16,
   "metadata": {},
   "outputs": [
    {
     "name": "stdout",
     "output_type": "stream",
     "text": [
      "epoch is 500\n",
      "cur_loss is tensor(0.0008, grad_fn=<DivBackward0>)\n",
      "test loss is 0.0007947694\n"
     ]
    },
    {
     "data": {
      "image/png": "[encoded data removed]",
      "text/plain": [
       "<Figure size 432x288 with 1 Axes>"
      ]
     },
     "metadata": {
      "needs_background": "light"
     },
     "output_type": "display_data"
    },
    {
     "data": {
      "image/png": "[encoded data removed]",
      "text/plain": [
       "<Figure size 432x288 with 1 Axes>"
      ]
     },
     "metadata": {
      "needs_background": "light"
     },
     "output_type": "display_data"
    }
   ],
   "source": [
    "num_epoch = 500\n",
    "batch_size = 100\n",
    "clip = 10\n",
    "\n",
    "losses = []\n",
    "test_losses = []\n",
    "k = 0\n",
    "lrs = [lr]\n",
    "\n",
    "data_aug = False\n",
    "\n",
    "\n",
    "for ep_ind in range(1,1+num_epoch):\n",
    "\n",
    "\n",
    "    #go from 0 to epoch_size in batch_size steps\n",
    "    #to get completely new data for every batch\n",
    "    cur_losses = []\n",
    "\n",
    "    net.train()\n",
    "    for i in range(0, len(cleaned_train_data_x), batch_size):\n",
    "        #print(get_batch(i, batch_size))\n",
    "        np_batch = cleaned_train_data_x[i:i+batch_size,-prev_steps:,:,[0,1]]\n",
    "        \n",
    "        if data_aug:\n",
    "            np_batch[:,:,:,0] = np_batch[:,:,:,0]+1e-7*np.random.randn(np_batch.shape[0],np_batch.shape[1],np_batch.shape[2])\n",
    "        \n",
    "        x_batch = Variable(torch.from_numpy(np_batch)).float()\n",
    "        output = net(x_batch)\n",
    "        target_batch = Variable(torch.from_numpy(cleaned_train_data_y[i:i+batch_size,:future_steps,:,0]).float()).view(-1, num_pred_steps, len(nodes))\n",
    "        \n",
    "        \n",
    "\n",
    "        batch_loss = criterion(output, target_batch)\n",
    "\n",
    "\n",
    "        #x_batch = Variable(torch.from_numpy(np_batch[0])).float()\n",
    "        #output = net(x_batch)\n",
    "        #target_batch = Variable(torch.from_numpy(np_batch[1]).float())\n",
    "        #batch_loss = criterion(output[0], target_batch)\n",
    "        #if k < 100:\n",
    "        #    print(batch_loss)\n",
    "        #    k = k + 1\n",
    "\n",
    "        optimizer.zero_grad()\n",
    "        batch_loss.backward()\n",
    "        #nn.utils.clip_grad_norm_(net.parameters(), clip)\n",
    "        optimizer.step()\n",
    "\n",
    "        cur_losses.append(batch_loss)\n",
    "\n",
    "    net.eval()\n",
    "    test_pred = net(torch.from_numpy(cleaned_test_data_x[:,-prev_steps:,:,[0,1]]).float())\n",
    "    test_target = torch.from_numpy(cleaned_test_data_y[:,:future_steps,:,0,]).float().view(-1, num_pred_steps, len(nodes))\n",
    "    test_losses.append(criterion(test_pred, test_target))\n",
    "\n",
    "    losses.append(sum(cur_losses)/len(cur_losses))\n",
    "    print(\"epoch is \" + str(ep_ind))\n",
    "    print(\"cur_loss is \" + str(losses[-1]) )\n",
    "    print(\"test loss is \" + str(test_losses[-1].detach().numpy()[()]))\n",
    "    plt.plot(np.log(losses), linestyle = '--')\n",
    "    plt.ylabel('loss')\n",
    "    plt.xlabel('epoch')\n",
    "    plt.show()\n",
    "    plt.plot(np.log(test_losses), marker = 'x')\n",
    "    plt.ylabel('loss')\n",
    "    plt.xlabel('epoch')\n",
    "    plt.show()\n",
    "    clear_output(wait=True)"
   ]
  },
  {
   "cell_type": "code",
   "execution_count": 17,
   "metadata": {},
   "outputs": [
    {
     "data": {
      "text/plain": [
       "array(0.00079477, dtype=float32)"
      ]
     },
     "execution_count": 17,
     "metadata": {},
     "output_type": "execute_result"
    }
   ],
   "source": [
    "test_pred = net(torch.from_numpy(cleaned_test_data_x[:,-prev_steps:,:,[0,1]]).float())[:,:,0]\n",
    "test_target = torch.from_numpy(cleaned_test_data_y[:,:future_steps,:,0]).float().view(-1, num_pred_steps, len(nodes))[:,:,0]\n",
    "criterion(test_pred, test_target).detach().numpy()"
   ]
  },
  {
   "cell_type": "code",
   "execution_count": 18,
   "metadata": {},
   "outputs": [],
   "source": [
    "torch.save(test_pred, \"jan_fc01_avg_1node13.pt\")"
   ]
  }
 ],
 "metadata": {
  "kernelspec": {
   "display_name": "Python 3",
   "language": "python",
   "name": "python3"
  },
  "language_info": {
   "codemirror_mode": {
    "name": "ipython",
    "version": 3
   },
   "file_extension": ".py",
   "mimetype": "text/x-python",
   "name": "python",
   "nbconvert_exporter": "python",
   "pygments_lexer": "ipython3",
   "version": "3.6.6"
  }
 },
 "nbformat": 4,
 "nbformat_minor": 2
}
