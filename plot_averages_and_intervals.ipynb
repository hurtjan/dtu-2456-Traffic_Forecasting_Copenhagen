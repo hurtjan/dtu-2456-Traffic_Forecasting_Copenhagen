{
 "cells": [
  {
   "cell_type": "code",
   "execution_count": 31,
   "metadata": {},
   "outputs": [],
   "source": [
    "import torch\n",
    "from torch.autograd import Variable\n",
    "from torch.nn.parameter import Parameter\n",
    "import torch.nn as nn\n",
    "import torch.nn.functional as F\n",
    "import torch.optim as optim\n",
    "import torch.nn.init as init\n",
    "from torch.nn.functional import relu, elu, relu6, sigmoid, tanh, softmax\n",
    "from torch.nn import Linear, Conv2d, BatchNorm2d, MaxPool2d, Dropout2d\n",
    "\n",
    "import time\n",
    "import matplotlib.dates as md\n",
    "\n",
    "\n",
    "\n",
    "%matplotlib inline\n",
    "import matplotlib\n",
    "import numpy as np\n",
    "import matplotlib.pyplot as plt\n",
    "import pandas as pd\n",
    "\n",
    "import networkx as nx\n",
    "import datetime"
   ]
  },
  {
   "cell_type": "code",
   "execution_count": 32,
   "metadata": {},
   "outputs": [],
   "source": [
    "df_place_details = pd.read_csv(\"./data/place_details.csv\")"
   ]
  },
  {
   "cell_type": "code",
   "execution_count": 33,
   "metadata": {},
   "outputs": [],
   "source": [
    "df_edges = pd.read_csv('data/graph_edges_with_directionality.csv')"
   ]
  },
  {
   "cell_type": "code",
   "execution_count": 34,
   "metadata": {},
   "outputs": [],
   "source": [
    "G = nx.DiGraph()"
   ]
  },
  {
   "cell_type": "code",
   "execution_count": 35,
   "metadata": {},
   "outputs": [],
   "source": [
    "for orig,desti in zip(df_edges['origin_place_id'], df_edges['destination_place_id']):\n",
    "    G.add_edge(orig, desti)"
   ]
  },
  {
   "cell_type": "code",
   "execution_count": 36,
   "metadata": {},
   "outputs": [],
   "source": [
    "id1 = list(G.nodes())[0]"
   ]
  },
  {
   "cell_type": "code",
   "execution_count": 37,
   "metadata": {},
   "outputs": [],
   "source": [
    "df_id1 = pd.read_csv(\"./data/by_place_5min/\" + id1 + \".csv\")\n",
    "speed1 = np.array(df_id1['speed_mean'])"
   ]
  },
  {
   "cell_type": "code",
   "execution_count": 38,
   "metadata": {},
   "outputs": [],
   "source": [
    "night = True\n",
    "day = 0\n",
    "i_day = 0\n",
    "is_2015 = False\n",
    "\n",
    "days_array = [[]]\n",
    "\n",
    "date_time = []\n",
    "\n",
    "for i,(start,end, speed) in enumerate(zip(df_id1['start_interval_s'], df_id1['end_interval_s'],df_id1['speed_mean'])):\n",
    "    time = datetime.datetime.strptime(start,\\\n",
    "                '%Y-%m-%d %H:%M:%S')\n",
    "    if not is_2015 and time.year != 2015:\n",
    "        pass\n",
    "    else:\n",
    "        is_2015 = True\n",
    "        if 1 < time.hour and time.hour < 24:\n",
    "            night = False\n",
    "            i_day = i_day + 1\n",
    "            days_array[day].append(speed)\n",
    "        elif not night:\n",
    "            night = True\n",
    "            day = day + 1\n",
    "            i_day = 0\n",
    "            days_array.append([])"
   ]
  },
  {
   "cell_type": "code",
   "execution_count": 39,
   "metadata": {},
   "outputs": [
    {
     "name": "stdout",
     "output_type": "stream",
     "text": [
      "0\n",
      "2013-01-01 00:00:00\n"
     ]
    }
   ],
   "source": [
    "start = datetime.datetime\n",
    "for i,t in enumerate(df_id1['start_interval_s']):\n",
    "    time = datetime.datetime.strptime(t,\\\n",
    "                '%Y-%m-%d %H:%M:%S')\n",
    "    if time.hour == 0:\n",
    "        print(i)\n",
    "        print(time)\n",
    "        break"
   ]
  },
  {
   "cell_type": "code",
   "execution_count": 66,
   "metadata": {},
   "outputs": [],
   "source": [
    "night = True\n",
    "\n",
    "days_flow_array = [[]]\n",
    "days_array = [[]]\n",
    "\n",
    "date_time = []\n",
    "\n",
    "for i,(start,end, flow, speed) in enumerate(zip(df_id1['start_interval_s'], df_id1['end_interval_s'],df_id1['flow_bucket'],df_id1['speed_mean'])):\n",
    "    time = datetime.datetime.strptime(start,\\\n",
    "                '%Y-%m-%d %H:%M:%S')\n",
    "    date_time.append(time)\n",
    "    if time.year != 2015 and time.weekday() < 5:\n",
    " # for weeken\n",
    "   # if time.year != 2015 and time.weekday() > 4:\n",
    "\n",
    "        pass\n",
    "    else:\n",
    "        if 1 < time.hour and time.hour < 24:\n",
    "            night = False\n",
    "            days_flow_array[-1].append(flow)\n",
    "            days_array[-1].append(speed)\n",
    "        elif not night:\n",
    "            night = True\n",
    "            days_flow_array.append([])\n",
    "            days_array.append([])"
   ]
  },
  {
   "cell_type": "code",
   "execution_count": 67,
   "metadata": {},
   "outputs": [],
   "source": [
    "length = len(sorted(days_flow_array,key=len, reverse=True)[0])\n",
    "y_flow=np.array([xi+[None]*(length-len(xi)) for xi in days_flow_array], dtype = np.float)\n",
    "\n",
    "length = len(sorted(days_array,key=len, reverse=True)[0])\n",
    "y = np.array([xi+[None]*(length-len(xi)) for xi in days_array], dtype = np.float)"
   ]
  },
  {
   "cell_type": "code",
   "execution_count": 68,
   "metadata": {},
   "outputs": [],
   "source": [
    "y_mean = [np.nanmean(day) for day in days_array]\n",
    "y_flow_mean = [np.nanmean(day) for day in days_flow_array]"
   ]
  },
  {
   "cell_type": "code",
   "execution_count": 69,
   "metadata": {},
   "outputs": [],
   "source": [
    "time = datetime.datetime.strptime(\"2013-01-01 01:00:00\",'%Y-%m-%d %H:%M:%S')"
   ]
  },
  {
   "cell_type": "code",
   "execution_count": 70,
   "metadata": {},
   "outputs": [],
   "source": [
    "times = []\n",
    "for i in range(23*12):\n",
    "    times.append(time + datetime.timedelta(minutes = i*5))"
   ]
  },
  {
   "cell_type": "code",
   "execution_count": 71,
   "metadata": {},
   "outputs": [],
   "source": [
    "hours = [t.hour for t in times]"
   ]
  },
  {
   "cell_type": "code",
   "execution_count": 72,
   "metadata": {},
   "outputs": [],
   "source": [
    "times = times[:len(np.nanmean(y_flow, axis = 0))]\n",
    "dates = times"
   ]
  },
  {
   "cell_type": "code",
   "execution_count": 73,
   "metadata": {},
   "outputs": [
    {
     "data": {
      "image/png": "[encoded data removed]",
      "text/plain": [
       "<Figure size 432x288 with 1 Axes>"
      ]
     },
     "metadata": {
      "needs_background": "light"
     },
     "output_type": "display_data"
    }
   ],
   "source": [
    "datenums=md.date2num(dates)\n",
    "plt.subplots_adjust(bottom=0.1)\n",
    "plt.xticks( rotation=90 )\n",
    "ax=plt.gca()\n",
    "xfmt = md.DateFormatter('%H:%M')\n",
    "ax.xaxis.set_major_formatter(xfmt)\n",
    "plt.plot(dates,np.nanmean(y, axis = 0), color = 'red', label = 'average')\n",
    "plt.plot(dates, np.nanmean(y, axis = 0) + np.nanstd(y, axis = 0), color = 'grey', linestyle = '--', label = 'average +/- std')\n",
    "plt.plot(dates, np.nanmean(y, axis = 0) - np.nanstd(y, axis = 0), color = 'grey', linestyle = '--')\n",
    "plt.ylabel(\"Average speed [km/h]\")\n",
    "plt.legend(loc = 'lower right')\n",
    "plt.title(\"'node 0' during the Weekend\")\n",
    "\n",
    "plt.tight_layout()\n",
    "plt.savefig(\"average_speed_week.png\", dpi = 400)\n",
    "plt.show()"
   ]
  }
 ],
 "metadata": {
  "kernelspec": {
   "display_name": "Python 3",
   "language": "python",
   "name": "python3"
  },
  "language_info": {
   "codemirror_mode": {
    "name": "ipython",
    "version": 3
   },
   "file_extension": ".py",
   "mimetype": "text/x-python",
   "name": "python",
   "nbconvert_exporter": "python",
   "pygments_lexer": "ipython3",
   "version": "3.6.6"
  }
 },
 "nbformat": 4,
 "nbformat_minor": 2
}
