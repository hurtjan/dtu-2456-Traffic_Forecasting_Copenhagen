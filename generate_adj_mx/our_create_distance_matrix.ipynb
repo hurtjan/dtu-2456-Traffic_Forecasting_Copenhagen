{
 "cells": [
  {
   "cell_type": "code",
   "execution_count": 6,
   "metadata": {},
   "outputs": [],
   "source": [
    "import pandas as pd\n",
    "import numpy as np\n",
    "\n",
    "import networkx as nx\n",
    "\n",
    "import pickle"
   ]
  },
  {
   "cell_type": "code",
   "execution_count": 7,
   "metadata": {},
   "outputs": [],
   "source": [
    "df_place_details = pd.read_csv(\"../data/place_details.csv\")\n",
    "df_edges = pd.read_csv('../data/graph_edges_with_directionality - Kopie.csv')\n",
    "G = nx.DiGraph()\n",
    "for orig,desti in zip(df_edges['origin_place_id'], df_edges['destination_place_id']):\n",
    "    G.add_edge(orig, desti)"
   ]
  },
  {
   "cell_type": "code",
   "execution_count": 8,
   "metadata": {},
   "outputs": [],
   "source": [
    "df_place_details = pd.read_csv(\"../data/place_details.csv\")\n",
    "lat_long_dict = {pid: np.array([lat, long]) for pid, lat, long in zip(df_place_details['place_id'], df_place_details['lat'], df_place_details['lng'])}"
   ]
  },
  {
   "cell_type": "code",
   "execution_count": 9,
   "metadata": {},
   "outputs": [],
   "source": [
    "nodes = list(G.nodes())"
   ]
  },
  {
   "cell_type": "code",
   "execution_count": 10,
   "metadata": {},
   "outputs": [],
   "source": [
    "k = 0\n",
    "path_lengths = {}\n",
    "for start in nodes:\n",
    "    for end in nodes:\n",
    "        try:\n",
    "            path = nx.shortest_path(G, start, end)\n",
    "            path_length = 0\n",
    "            for i in range(len(path)-1):\n",
    "                path_length = path_length + np.sum( (lat_long_dict[path[i+1]] - lat_long_dict[path[i]])**2 )\n",
    "        except nx.NetworkXNoPath:\n",
    "            path_length = np.inf\n",
    "        path_lengths[start, end] = path_length"
   ]
  },
  {
   "cell_type": "code",
   "execution_count": 11,
   "metadata": {},
   "outputs": [],
   "source": [
    "lengths = np.array(list(path_lengths.values()))\n",
    "max_length = max(lengths[lengths != np.inf])"
   ]
  },
  {
   "cell_type": "code",
   "execution_count": 12,
   "metadata": {},
   "outputs": [],
   "source": [
    "start_end_dist = np.array([[start,end,l] for (start,end),l in path_lengths.items()])"
   ]
  },
  {
   "cell_type": "code",
   "execution_count": 14,
   "metadata": {},
   "outputs": [],
   "source": [
    "np.savetxt('our_distances_intersection.csv', start_end_dist, delimiter = ',', fmt=\"%s\", header = \"start,end,cost\", comments='')"
   ]
  },
  {
   "cell_type": "code",
   "execution_count": 15,
   "metadata": {},
   "outputs": [],
   "source": [
    "df_distance = pd.read_csv('our_distances_intersection.csv', delimiter= ',')"
   ]
  },
  {
   "cell_type": "code",
   "execution_count": 18,
   "metadata": {},
   "outputs": [
    {
     "data": {
      "text/plain": [
       "True"
      ]
     },
     "execution_count": 18,
     "metadata": {},
     "output_type": "execute_result"
    }
   ],
   "source": [
    "nodes[:34] == list(np.array(list(path_lengths.keys()))[:34,1])"
   ]
  },
  {
   "cell_type": "code",
   "execution_count": 19,
   "metadata": {},
   "outputs": [],
   "source": [
    "sensor_id_to_ind = {sid:i for i,sid in enumerate(nodes)}"
   ]
  },
  {
   "cell_type": "code",
   "execution_count": 20,
   "metadata": {},
   "outputs": [],
   "source": [
    "dist_mx = np.zeros((len(nodes),len(nodes)), dtype=np.float32)\n",
    "\n",
    "for i,start in enumerate(nodes):\n",
    "    for j,end in enumerate(nodes):\n",
    "        dist_mx[i,j] = path_lengths[start,end]"
   ]
  },
  {
   "cell_type": "code",
   "execution_count": 21,
   "metadata": {},
   "outputs": [],
   "source": [
    "distances = dist_mx[~np.isinf(dist_mx)].flatten()\n",
    "std = distances.std()\n",
    "adj_mx = np.exp(-np.square(dist_mx / std))"
   ]
  }
 ],
 "metadata": {
  "kernelspec": {
   "display_name": "Python 3",
   "language": "python",
   "name": "python3"
  },
  "language_info": {
   "codemirror_mode": {
    "name": "ipython",
    "version": 3
   },
   "file_extension": ".py",
   "mimetype": "text/x-python",
   "name": "python",
   "nbconvert_exporter": "python",
   "pygments_lexer": "ipython3",
   "version": "3.6.6"
  }
 },
 "nbformat": 4,
 "nbformat_minor": 2
}
